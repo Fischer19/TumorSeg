{
 "cells": [
  {
   "cell_type": "code",
   "execution_count": null,
   "metadata": {
    "collapsed": false
   },
   "outputs": [],
   "source": [
    "%matplotlib inline"
   ]
  },
  {
   "cell_type": "markdown",
   "metadata": {},
   "source": [
    "\n",
    "Neural Networks\n",
    "===============\n",
    "\n",
    "Neural networks can be constructed using the ``torch.nn`` package.\n",
    "\n",
    "Now that you had a glimpse of ``autograd``, ``nn`` depends on\n",
    "``autograd`` to define models and differentiate them.\n",
    "An ``nn.Module`` contains layers, and a method ``forward(input)``\\ that\n",
    "returns the ``output``.\n",
    "\n",
    "For example, look at this network that classfies digit images:\n",
    "\n",
    ".. figure:: /_static/img/mnist.png\n",
    "   :alt: convnet\n",
    "\n",
    "   convnet\n",
    "\n",
    "It is a simple feed-forward network. It takes the input, feeds it\n",
    "through several layers one after the other, and then finally gives the\n",
    "output.\n",
    "\n",
    "A typical training procedure for a neural network is as follows:\n",
    "\n",
    "- Define the neural network that has some learnable parameters (or\n",
    "  weights)\n",
    "- Iterate over a dataset of inputs\n",
    "- Process input through the network\n",
    "- Compute the loss (how far is the output from being correct)\n",
    "- Propagate gradients back into the network’s parameters\n",
    "- Update the weights of the network, typically using a simple update rule:\n",
    "  ``weight = weight + learning_rate * gradient``\n",
    "\n",
    "Define the network\n",
    "------------------\n",
    "\n",
    "Let’s define this network:\n",
    "\n"
   ]
  },
  {
   "cell_type": "code",
   "execution_count": 3,
   "metadata": {
    "collapsed": false
   },
   "outputs": [
    {
     "name": "stdout",
     "output_type": "stream",
     "text": [
      "Net (\n",
      "  (conv1): Conv2d(1, 6, kernel_size=(5, 5), stride=(1, 1))\n",
      "  (conv2): Conv2d(6, 16, kernel_size=(5, 5), stride=(1, 1))\n",
      "  (fc1): Linear (400 -> 120)\n",
      "  (fc2): Linear (120 -> 84)\n",
      "  (fc3): Linear (84 -> 10)\n",
      ")\n"
     ]
    }
   ],
   "source": [
    "import torch\n",
    "from torch.autograd import Variable\n",
    "import torch.nn as nn\n",
    "import torch.nn.functional as F\n",
    "\n",
    "\n",
    "class Net(nn.Module):\n",
    "\n",
    "    def __init__(self):\n",
    "        super(Net, self).__init__()\n",
    "        # 1 input image channel, 6 output channels, 5x5 square convolution\n",
    "        # kernel\n",
    "        self.conv1 = nn.Conv2d(1, 6, 5)\n",
    "        self.conv2 = nn.Conv2d(6, 16, 5)\n",
    "        # an affine operation: y = Wx + b\n",
    "        self.fc1 = nn.Linear(16 * 5 * 5, 120)\n",
    "        self.fc2 = nn.Linear(120, 84)\n",
    "        self.fc3 = nn.Linear(84, 10)\n",
    "\n",
    "    def forward(self, x):\n",
    "        # Max pooling over a (2, 2) window\n",
    "        x = F.max_pool2d(F.relu(self.conv1(x)), (2, 2))\n",
    "        # If the size is a square you can only specify a single number\n",
    "        x = F.max_pool2d(F.relu(self.conv2(x)), 2)\n",
    "        x = x.view(-1, self.num_flat_features(x))\n",
    "        x = F.relu(self.fc1(x))\n",
    "        x = F.relu(self.fc2(x))\n",
    "        x = self.fc3(x)\n",
    "        return x\n",
    "\n",
    "    def num_flat_features(self, x):\n",
    "        size = x.size()[1:]  # all dimensions except the batch dimension\n",
    "        num_features = 1\n",
    "        for s in size:\n",
    "            num_features *= s\n",
    "        return num_features\n",
    "\n",
    "\n",
    "net = Net()\n",
    "print(net)"
   ]
  },
  {
   "cell_type": "markdown",
   "metadata": {},
   "source": [
    "You just have to define the ``forward`` function, and the ``backward``\n",
    "function (where gradients are computed) is automatically defined for you\n",
    "using ``autograd``.\n",
    "You can use any of the Tensor operations in the ``forward`` function.\n",
    "\n",
    "The learnable parameters of a model are returned by ``net.parameters()``\n",
    "\n"
   ]
  },
  {
   "cell_type": "code",
   "execution_count": 10,
   "metadata": {
    "collapsed": false
   },
   "outputs": [
    {
     "name": "stdout",
     "output_type": "stream",
     "text": [
      "10\n",
      "torch.Size([6, 1, 5, 5])\n"
     ]
    }
   ],
   "source": [
    "params = list(net.parameters())\n",
    "print(len(params))\n",
    "print(params[0].size())  # conv1's .weight"
   ]
  },
  {
   "cell_type": "markdown",
   "metadata": {},
   "source": [
    "The input to the forward is an ``autograd.Variable``, and so is the output.\n",
    "\n"
   ]
  },
  {
   "cell_type": "code",
   "execution_count": 11,
   "metadata": {
    "collapsed": false
   },
   "outputs": [
    {
     "name": "stdout",
     "output_type": "stream",
     "text": [
      "Variable containing:\n",
      "(0 ,0 ,.,.) = \n",
      "  0.9451  0.4316  0.0000  ...   1.5066  0.8989  0.8331\n",
      "  1.7686  1.6916  0.9111  ...   0.1870  0.1545  1.2801\n",
      "  0.0000  0.5389  0.7527  ...   0.5418  0.5213  0.5917\n",
      "           ...             ⋱             ...          \n",
      "  0.7225  0.2962  0.7260  ...   0.1255  0.5616  0.9981\n",
      "  0.7486  0.5994  0.6452  ...   1.1699  0.3983  0.0000\n",
      "  0.5828  1.1244  0.6468  ...   0.0000  0.6429  0.1322\n",
      "\n",
      "(0 ,1 ,.,.) = \n",
      "  0.0000  0.0980  0.3181  ...   0.8658  1.1241  0.0000\n",
      "  0.6691  0.0000  0.0600  ...   0.1070  0.8008  0.5424\n",
      "  0.4509  0.8115  0.2282  ...   0.2278  0.7385  0.2486\n",
      "           ...             ⋱             ...          \n",
      "  0.0000  1.0882  0.4730  ...   0.6522  0.2009  0.2893\n",
      "  0.0992  0.6571  0.4873  ...   0.3582  0.4218  0.6935\n",
      "  0.0256  0.0681  0.5492  ...   0.6518  0.1675  0.0000\n",
      "\n",
      "(0 ,2 ,.,.) = \n",
      "  0.0000  0.4211  0.3630  ...   0.3140  0.0925  1.0500\n",
      "  0.2724  0.0601  0.4795  ...   0.3257  0.0000  0.3330\n",
      "  0.8481  0.4529  0.0810  ...   0.5739  0.3837  0.6672\n",
      "           ...             ⋱             ...          \n",
      "  0.9310  1.0480  0.9715  ...   0.2728  0.0961  0.4464\n",
      "  0.5486  0.6495  0.1787  ...   0.1855  0.9669  0.4098\n",
      "  0.5635  0.0000  0.5657  ...   0.8745  0.0000  0.3572\n",
      "\n",
      "(0 ,3 ,.,.) = \n",
      "  0.1082  0.0000  0.4665  ...   0.5775  1.0847  1.4480\n",
      "  1.4377  0.7201  0.5089  ...   0.6471  0.3217  0.7772\n",
      "  1.5621  0.4744  0.7692  ...   0.7422  0.2929  0.7489\n",
      "           ...             ⋱             ...          \n",
      "  1.7737  0.4931  0.8949  ...   0.5451  1.0099  0.3663\n",
      "  0.3436  0.9384  0.2989  ...   0.6002  0.4648  0.7256\n",
      "  0.3549  0.4064  0.2966  ...   0.3345  0.0000  0.5963\n",
      "\n",
      "(0 ,4 ,.,.) = \n",
      "  1.4410  1.7491  0.8231  ...   1.8838  1.5615  0.6500\n",
      "  0.7122  1.1592  1.2627  ...   1.7102  0.6356  1.0988\n",
      "  1.0619  0.7109  0.8498  ...   1.4048  0.4737  1.0078\n",
      "           ...             ⋱             ...          \n",
      "  0.6238  0.5415  1.2650  ...   0.9943  0.3537  0.9310\n",
      "  0.9067  0.1246  0.8188  ...   1.1030  1.4220  0.3091\n",
      "  1.0445  0.8681  1.0334  ...   1.3899  1.2045  0.5327\n",
      "\n",
      "(0 ,5 ,.,.) = \n",
      "  0.4054  0.7046  1.1755  ...   0.4511  0.0429  0.2743\n",
      "  0.7880  0.3038  0.0000  ...   0.6837  0.0000  0.6650\n",
      "  1.2001  0.7025  0.4535  ...   0.0000  0.1215  1.0145\n",
      "           ...             ⋱             ...          \n",
      "  1.1546  1.2720  0.9229  ...   0.3102  0.4867  0.5200\n",
      "  1.5722  0.5920  1.2576  ...   0.0663  0.6486  1.0216\n",
      "  0.5030  0.3753  0.4317  ...   0.1628  0.5189  0.4357\n",
      "[torch.FloatTensor of size 1x6x14x14]\n",
      "\n",
      "Variable containing:\n",
      " 0.0724 -0.0017  0.1491 -0.0797  0.0801  0.0172 -0.1426  0.0300 -0.1002  0.0276\n",
      "[torch.FloatTensor of size 1x10]\n",
      "\n"
     ]
    }
   ],
   "source": [
    "input = Variable(torch.randn(1, 1, 32, 32))\n",
    "out = net(input)\n",
    "print(out)"
   ]
  },
  {
   "cell_type": "markdown",
   "metadata": {},
   "source": [
    "Zero the gradient buffers of all parameters and backprops with random\n",
    "gradients:\n",
    "\n"
   ]
  },
  {
   "cell_type": "code",
   "execution_count": 12,
   "metadata": {
    "collapsed": false
   },
   "outputs": [],
   "source": [
    "net.zero_grad()\n",
    "out.backward(torch.randn(1, 10))"
   ]
  },
  {
   "cell_type": "markdown",
   "metadata": {},
   "source": [
    "<div class=\"alert alert-info\"><h4>Note</h4><p>``torch.nn`` only supports mini-batches The entire ``torch.nn``\n",
    "    package only supports inputs that are a mini-batch of samples, and not\n",
    "    a single sample.\n",
    "\n",
    "    For example, ``nn.Conv2d`` will take in a 4D Tensor of\n",
    "    ``nSamples x nChannels x Height x Width``.\n",
    "\n",
    "    If you have a single sample, just use ``input.unsqueeze(0)`` to add\n",
    "    a fake batch dimension.</p></div>\n",
    "\n",
    "Before proceeding further, let's recap all the classes you’ve seen so far.\n",
    "\n",
    "**Recap:**\n",
    "  -  ``torch.Tensor`` - A *multi-dimensional array*.\n",
    "  -  ``autograd.Variable`` - *Wraps a Tensor and records the history of\n",
    "     operations* applied to it. Has the same API as a ``Tensor``, with\n",
    "     some additions like ``backward()``. Also *holds the gradient*\n",
    "     w.r.t. the tensor.\n",
    "  -  ``nn.Module`` - Neural network module. *Convenient way of\n",
    "     encapsulating parameters*, with helpers for moving them to GPU,\n",
    "     exporting, loading, etc.\n",
    "  -  ``nn.Parameter`` - A kind of Variable, that is *automatically\n",
    "     registered as a parameter when assigned as an attribute to a*\n",
    "     ``Module``.\n",
    "  -  ``autograd.Function`` - Implements *forward and backward definitions\n",
    "     of an autograd operation*. Every ``Variable`` operation, creates at\n",
    "     least a single ``Function`` node, that connects to functions that\n",
    "     created a ``Variable`` and *encodes its history**.\n",
    "\n",
    "**At this point, we covered:**\n",
    "  -  Defining a neural network\n",
    "  -  Processing inputs and calling backward.\n",
    "\n",
    "**Still Left:**\n",
    "  -  Computing the loss\n",
    "  -  Updating the weights of the network\n",
    "\n",
    "Loss Function\n",
    "-------------\n",
    "A loss function takes the (output, target) pair of inputs, and computes a\n",
    "value that estimates how far away the output is from the target.\n",
    "\n",
    "There are several different\n",
    "`loss functions <http://pytorch.org/docs/nn.html#loss-functions>`_ under the\n",
    "nn package .\n",
    "A simple loss is: ``nn.MSELoss`` which computes the mean-squared error\n",
    "between the input and the target.\n",
    "\n",
    "For example:\n",
    "\n"
   ]
  },
  {
   "cell_type": "code",
   "execution_count": 13,
   "metadata": {
    "collapsed": false
   },
   "outputs": [
    {
     "name": "stdout",
     "output_type": "stream",
     "text": [
      "Variable containing:\n",
      "(0 ,0 ,.,.) = \n",
      "  0.9451  0.4316  0.0000  ...   1.5066  0.8989  0.8331\n",
      "  1.7686  1.6916  0.9111  ...   0.1870  0.1545  1.2801\n",
      "  0.0000  0.5389  0.7527  ...   0.5418  0.5213  0.5917\n",
      "           ...             ⋱             ...          \n",
      "  0.7225  0.2962  0.7260  ...   0.1255  0.5616  0.9981\n",
      "  0.7486  0.5994  0.6452  ...   1.1699  0.3983  0.0000\n",
      "  0.5828  1.1244  0.6468  ...   0.0000  0.6429  0.1322\n",
      "\n",
      "(0 ,1 ,.,.) = \n",
      "  0.0000  0.0980  0.3181  ...   0.8658  1.1241  0.0000\n",
      "  0.6691  0.0000  0.0600  ...   0.1070  0.8008  0.5424\n",
      "  0.4509  0.8115  0.2282  ...   0.2278  0.7385  0.2486\n",
      "           ...             ⋱             ...          \n",
      "  0.0000  1.0882  0.4730  ...   0.6522  0.2009  0.2893\n",
      "  0.0992  0.6571  0.4873  ...   0.3582  0.4218  0.6935\n",
      "  0.0256  0.0681  0.5492  ...   0.6518  0.1675  0.0000\n",
      "\n",
      "(0 ,2 ,.,.) = \n",
      "  0.0000  0.4211  0.3630  ...   0.3140  0.0925  1.0500\n",
      "  0.2724  0.0601  0.4795  ...   0.3257  0.0000  0.3330\n",
      "  0.8481  0.4529  0.0810  ...   0.5739  0.3837  0.6672\n",
      "           ...             ⋱             ...          \n",
      "  0.9310  1.0480  0.9715  ...   0.2728  0.0961  0.4464\n",
      "  0.5486  0.6495  0.1787  ...   0.1855  0.9669  0.4098\n",
      "  0.5635  0.0000  0.5657  ...   0.8745  0.0000  0.3572\n",
      "\n",
      "(0 ,3 ,.,.) = \n",
      "  0.1082  0.0000  0.4665  ...   0.5775  1.0847  1.4480\n",
      "  1.4377  0.7201  0.5089  ...   0.6471  0.3217  0.7772\n",
      "  1.5621  0.4744  0.7692  ...   0.7422  0.2929  0.7489\n",
      "           ...             ⋱             ...          \n",
      "  1.7737  0.4931  0.8949  ...   0.5451  1.0099  0.3663\n",
      "  0.3436  0.9384  0.2989  ...   0.6002  0.4648  0.7256\n",
      "  0.3549  0.4064  0.2966  ...   0.3345  0.0000  0.5963\n",
      "\n",
      "(0 ,4 ,.,.) = \n",
      "  1.4410  1.7491  0.8231  ...   1.8838  1.5615  0.6500\n",
      "  0.7122  1.1592  1.2627  ...   1.7102  0.6356  1.0988\n",
      "  1.0619  0.7109  0.8498  ...   1.4048  0.4737  1.0078\n",
      "           ...             ⋱             ...          \n",
      "  0.6238  0.5415  1.2650  ...   0.9943  0.3537  0.9310\n",
      "  0.9067  0.1246  0.8188  ...   1.1030  1.4220  0.3091\n",
      "  1.0445  0.8681  1.0334  ...   1.3899  1.2045  0.5327\n",
      "\n",
      "(0 ,5 ,.,.) = \n",
      "  0.4054  0.7046  1.1755  ...   0.4511  0.0429  0.2743\n",
      "  0.7880  0.3038  0.0000  ...   0.6837  0.0000  0.6650\n",
      "  1.2001  0.7025  0.4535  ...   0.0000  0.1215  1.0145\n",
      "           ...             ⋱             ...          \n",
      "  1.1546  1.2720  0.9229  ...   0.3102  0.4867  0.5200\n",
      "  1.5722  0.5920  1.2576  ...   0.0663  0.6486  1.0216\n",
      "  0.5030  0.3753  0.4317  ...   0.1628  0.5189  0.4357\n",
      "[torch.FloatTensor of size 1x6x14x14]\n",
      "\n",
      "Variable containing:\n",
      " 38.6437\n",
      "[torch.FloatTensor of size 1]\n",
      "\n"
     ]
    }
   ],
   "source": [
    "output = net(input)\n",
    "target = Variable(torch.arange(1, 11))  # a dummy target, for example\n",
    "criterion = nn.MSELoss()\n",
    "\n",
    "loss = criterion(output, target)\n",
    "print(loss)"
   ]
  },
  {
   "cell_type": "markdown",
   "metadata": {},
   "source": [
    "Now, if you follow ``loss`` in the backward direction, using it’s\n",
    "``.creator`` attribute, you will see a graph of computations that looks\n",
    "like this:\n",
    "\n",
    "::\n",
    "\n",
    "    input -> conv2d -> relu -> maxpool2d -> conv2d -> relu -> maxpool2d\n",
    "          -> view -> linear -> relu -> linear -> relu -> linear\n",
    "          -> MSELoss\n",
    "          -> loss\n",
    "\n",
    "So, when we call ``loss.backward()``, the whole graph is differentiated\n",
    "w.r.t. the loss, and all Variables in the graph will have their\n",
    "``.grad`` Variable accumulated with the gradient.\n",
    "\n",
    "For illustration, let us follow a few steps backward:\n",
    "\n"
   ]
  },
  {
   "cell_type": "code",
   "execution_count": 14,
   "metadata": {
    "collapsed": false
   },
   "outputs": [
    {
     "name": "stdout",
     "output_type": "stream",
     "text": [
      "<torch.nn._functions.thnn.auto.MSELoss object at 0x117265ed0>\n",
      "<torch.nn._functions.linear.Linear object at 0x117265de8>\n",
      "<torch.nn._functions.thnn.auto.Threshold object at 0x117265d00>\n"
     ]
    }
   ],
   "source": [
    "print(loss.creator)  # MSELoss\n",
    "print(loss.creator.previous_functions[0][0])  # Linear\n",
    "print(loss.creator.previous_functions[0][0].previous_functions[0][0])  # ReLU"
   ]
  },
  {
   "cell_type": "markdown",
   "metadata": {},
   "source": [
    "Backprop\n",
    "--------\n",
    "To backpropogate the error all we have to do is to ``loss.backward()``.\n",
    "You need to clear the existing gradients though, else gradients will be\n",
    "accumulated to existing gradients\n",
    "\n",
    "\n",
    "Now we shall call ``loss.backward()``, and have a look at conv1's bias\n",
    "gradients before and after the backward.\n",
    "\n"
   ]
  },
  {
   "cell_type": "code",
   "execution_count": 15,
   "metadata": {
    "collapsed": false
   },
   "outputs": [
    {
     "name": "stdout",
     "output_type": "stream",
     "text": [
      "conv1.bias.grad before backward\n",
      "Variable containing:\n",
      " 0\n",
      " 0\n",
      " 0\n",
      " 0\n",
      " 0\n",
      " 0\n",
      "[torch.FloatTensor of size 6]\n",
      "\n",
      "conv1.bias.grad after backward\n",
      "Variable containing:\n",
      "-0.0462\n",
      " 0.0434\n",
      "-0.0321\n",
      "-0.0736\n",
      " 0.1254\n",
      " 0.0422\n",
      "[torch.FloatTensor of size 6]\n",
      "\n"
     ]
    }
   ],
   "source": [
    "net.zero_grad()     # zeroes the gradient buffers of all parameters\n",
    "\n",
    "print('conv1.bias.grad before backward')\n",
    "print(net.conv1.bias.grad)\n",
    "\n",
    "loss.backward()\n",
    "\n",
    "print('conv1.bias.grad after backward')\n",
    "print(net.conv1.bias.grad)"
   ]
  },
  {
   "cell_type": "markdown",
   "metadata": {},
   "source": [
    "Now, we have seen how to use loss functions.\n",
    "\n",
    "**Read Later:**\n",
    "\n",
    "  The neural network package contains various modules and loss functions\n",
    "  that form the building blocks of deep neural networks. A full list with\n",
    "  documentation is `here <http://pytorch.org/docs/nn>`_\n",
    "\n",
    "**The only thing left to learn is:**\n",
    "\n",
    "  - updating the weights of the network\n",
    "\n",
    "Update the weights\n",
    "------------------\n",
    "The simplest update rule used in practice is the Stochastic Gradient\n",
    "Descent (SGD):\n",
    "\n",
    "     ``weight = weight - learning_rate * gradient``\n",
    "\n",
    "We can implement this using simple python code:\n",
    "\n",
    ".. code:: python\n",
    "\n",
    "    learning_rate = 0.01\n",
    "    for f in net.parameters():\n",
    "        f.data.sub_(f.grad.data * learning_rate)\n",
    "\n",
    "However, as you use neural networks, you want to use various different\n",
    "update rules such as SGD, Nesterov-SGD, Adam, RMSProp, etc.\n",
    "To enable this, we built a small package: ``torch.optim`` that\n",
    "implements all these methods. Using it is very simple:\n",
    "\n"
   ]
  },
  {
   "cell_type": "code",
   "execution_count": 16,
   "metadata": {
    "collapsed": false
   },
   "outputs": [
    {
     "name": "stdout",
     "output_type": "stream",
     "text": [
      "<generator object parameters at 0x1168a2dc0>\n"
     ]
    }
   ],
   "source": [
    "print(net.parameters())"
   ]
  },
  {
   "cell_type": "code",
   "execution_count": 17,
   "metadata": {
    "collapsed": false
   },
   "outputs": [
    {
     "name": "stdout",
     "output_type": "stream",
     "text": [
      "Variable containing:\n",
      "(0 ,0 ,.,.) = \n",
      "  0.9451  0.4316  0.0000  ...   1.5066  0.8989  0.8331\n",
      "  1.7686  1.6916  0.9111  ...   0.1870  0.1545  1.2801\n",
      "  0.0000  0.5389  0.7527  ...   0.5418  0.5213  0.5917\n",
      "           ...             ⋱             ...          \n",
      "  0.7225  0.2962  0.7260  ...   0.1255  0.5616  0.9981\n",
      "  0.7486  0.5994  0.6452  ...   1.1699  0.3983  0.0000\n",
      "  0.5828  1.1244  0.6468  ...   0.0000  0.6429  0.1322\n",
      "\n",
      "(0 ,1 ,.,.) = \n",
      "  0.0000  0.0980  0.3181  ...   0.8658  1.1241  0.0000\n",
      "  0.6691  0.0000  0.0600  ...   0.1070  0.8008  0.5424\n",
      "  0.4509  0.8115  0.2282  ...   0.2278  0.7385  0.2486\n",
      "           ...             ⋱             ...          \n",
      "  0.0000  1.0882  0.4730  ...   0.6522  0.2009  0.2893\n",
      "  0.0992  0.6571  0.4873  ...   0.3582  0.4218  0.6935\n",
      "  0.0256  0.0681  0.5492  ...   0.6518  0.1675  0.0000\n",
      "\n",
      "(0 ,2 ,.,.) = \n",
      "  0.0000  0.4211  0.3630  ...   0.3140  0.0925  1.0500\n",
      "  0.2724  0.0601  0.4795  ...   0.3257  0.0000  0.3330\n",
      "  0.8481  0.4529  0.0810  ...   0.5739  0.3837  0.6672\n",
      "           ...             ⋱             ...          \n",
      "  0.9310  1.0480  0.9715  ...   0.2728  0.0961  0.4464\n",
      "  0.5486  0.6495  0.1787  ...   0.1855  0.9669  0.4098\n",
      "  0.5635  0.0000  0.5657  ...   0.8745  0.0000  0.3572\n",
      "\n",
      "(0 ,3 ,.,.) = \n",
      "  0.1082  0.0000  0.4665  ...   0.5775  1.0847  1.4480\n",
      "  1.4377  0.7201  0.5089  ...   0.6471  0.3217  0.7772\n",
      "  1.5621  0.4744  0.7692  ...   0.7422  0.2929  0.7489\n",
      "           ...             ⋱             ...          \n",
      "  1.7737  0.4931  0.8949  ...   0.5451  1.0099  0.3663\n",
      "  0.3436  0.9384  0.2989  ...   0.6002  0.4648  0.7256\n",
      "  0.3549  0.4064  0.2966  ...   0.3345  0.0000  0.5963\n",
      "\n",
      "(0 ,4 ,.,.) = \n",
      "  1.4410  1.7491  0.8231  ...   1.8838  1.5615  0.6500\n",
      "  0.7122  1.1592  1.2627  ...   1.7102  0.6356  1.0988\n",
      "  1.0619  0.7109  0.8498  ...   1.4048  0.4737  1.0078\n",
      "           ...             ⋱             ...          \n",
      "  0.6238  0.5415  1.2650  ...   0.9943  0.3537  0.9310\n",
      "  0.9067  0.1246  0.8188  ...   1.1030  1.4220  0.3091\n",
      "  1.0445  0.8681  1.0334  ...   1.3899  1.2045  0.5327\n",
      "\n",
      "(0 ,5 ,.,.) = \n",
      "  0.4054  0.7046  1.1755  ...   0.4511  0.0429  0.2743\n",
      "  0.7880  0.3038  0.0000  ...   0.6837  0.0000  0.6650\n",
      "  1.2001  0.7025  0.4535  ...   0.0000  0.1215  1.0145\n",
      "           ...             ⋱             ...          \n",
      "  1.1546  1.2720  0.9229  ...   0.3102  0.4867  0.5200\n",
      "  1.5722  0.5920  1.2576  ...   0.0663  0.6486  1.0216\n",
      "  0.5030  0.3753  0.4317  ...   0.1628  0.5189  0.4357\n",
      "[torch.FloatTensor of size 1x6x14x14]\n",
      "\n"
     ]
    }
   ],
   "source": [
    "import torch.optim as optim\n",
    "\n",
    "# create your optimizer\n",
    "optimizer = optim.SGD(net.parameters(), lr=0.01)\n",
    "\n",
    "# in your training loop:\n",
    "optimizer.zero_grad()   # zero the gradient buffers\n",
    "output = net(input)\n",
    "loss = criterion(output, target)\n",
    "loss.backward()\n",
    "optimizer.step()    # Does the update"
   ]
  },
  {
   "cell_type": "code",
   "execution_count": null,
   "metadata": {
    "collapsed": true
   },
   "outputs": [],
   "source": []
  }
 ],
 "metadata": {
  "kernelspec": {
   "display_name": "Python 2",
   "language": "python",
   "name": "python2"
  },
  "language_info": {
   "codemirror_mode": {
    "name": "ipython",
    "version": 2
   },
   "file_extension": ".py",
   "mimetype": "text/x-python",
   "name": "python",
   "nbconvert_exporter": "python",
   "pygments_lexer": "ipython2",
   "version": "2.7.13"
  }
 },
 "nbformat": 4,
 "nbformat_minor": 0
}
