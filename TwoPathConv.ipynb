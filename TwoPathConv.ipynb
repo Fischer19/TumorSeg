{
 "cells": [
  {
   "cell_type": "code",
   "execution_count": 22,
   "metadata": {
    "collapsed": false
   },
   "outputs": [
    {
     "name": "stdout",
     "output_type": "stream",
     "text": [
      "TwoPathConv (\n",
      "  (upper_conv1): Conv2d(4, 64, kernel_size=(7, 7), stride=(1, 1))\n",
      "  (upper_conv2): Conv2d(64, 64, kernel_size=(3, 3), stride=(1, 1))\n",
      "  (under_conv1): Conv2d(4, 160, kernel_size=(13, 13), stride=(1, 1))\n",
      "  (final_conv): Conv2d(224, 5, kernel_size=(21, 21), stride=(1, 1))\n",
      ")\n",
      "torch.Size([1, 64, 21, 21])\n",
      "torch.Size([1, 160, 21, 21])\n",
      "Variable containing:\n",
      "(0 ,0 ,.,.) = \n",
      "  0.1931\n",
      "\n",
      "(0 ,1 ,.,.) = \n",
      "  0.1640\n",
      "\n",
      "(0 ,2 ,.,.) = \n",
      "  0.1595\n",
      "\n",
      "(0 ,3 ,.,.) = \n",
      "  0.2414\n",
      "\n",
      "(0 ,4 ,.,.) = \n",
      "  0.2420\n",
      "[torch.FloatTensor of size 1x5x1x1]\n",
      "\n"
     ]
    }
   ],
   "source": [
    "import torch\n",
    "from torch.autograd import Variable\n",
    "import torch.nn as nn\n",
    "import torch.nn.functional as F\n",
    "\n",
    "class TwoPathConv(nn.Module):\n",
    "    def __init__(self):\n",
    "        super(TwoPathConv, self).__init__()\n",
    "        self.upper_conv1 = nn.Conv2d(4,64,7)\n",
    "        self.upper_conv2 = nn.Conv2d(64,64,3)\n",
    "        self.under_conv1 = nn.Conv2d(4,160,13)\n",
    "        self.final_conv = nn.Conv2d(224,5,21)\n",
    "    \n",
    "    def forward(self, x):\n",
    "        upper_x = F.max_pool2d(F.relu(self.upper_conv1(x)), (4, 4),stride = 1)\n",
    "        upper_x = F.max_pool2d(F.relu(self.upper_conv2(upper_x)), (2, 2), stride = 1)\n",
    "        print(upper_x.size())\n",
    "        under_x = F.relu(self.under_conv1(x))\n",
    "        print(under_x.size())\n",
    "        final_x = torch.cat((under_x, upper_x), 1)\n",
    "        out = F.softmax(self.final_conv(final_x))\n",
    "        return out\n",
    "        \n",
    "net = TwoPathConv()\n",
    "print(net)\n",
    "\n",
    "x = Variable(torch.randn(1,4,33,33))\n",
    "print(net.forward(x))"
   ]
  },
  {
   "cell_type": "code",
   "execution_count": null,
   "metadata": {
    "collapsed": true
   },
   "outputs": [],
   "source": []
  }
 ],
 "metadata": {
  "kernelspec": {
   "display_name": "Python 2",
   "language": "python",
   "name": "python2"
  },
  "language_info": {
   "codemirror_mode": {
    "name": "ipython",
    "version": 2
   },
   "file_extension": ".py",
   "mimetype": "text/x-python",
   "name": "python",
   "nbconvert_exporter": "python",
   "pygments_lexer": "ipython2",
   "version": "2.7.13"
  }
 },
 "nbformat": 4,
 "nbformat_minor": 2
}
